{
 "cells": [
  {
   "cell_type": "code",
   "execution_count": null,
   "metadata": {},
   "outputs": [],
   "source": [
    "import os\n",
    "import pandas as pd\n",
    "import numpy as np\n",
    "\n",
    "def process_trip_data(input_file, output_file):\n",
    "    # Load the data\n",
    "    df = pd.read_csv(input_file)\n",
    "    \n",
    "    # Filter for trips involving California\n",
    "    df_ca = df[(df['origin_state'] == \"CA\") | (df['destination_state'] == \"CA\")]\n",
    "    \n",
    "    # Aggregate the data\n",
    "    df_grouped = df_ca.groupby(['origin_state', 'destination_state'])['annual_total_trips'].sum().reset_index()\n",
    "    \n",
    "    # Save the aggregated data to a CSV\n",
    "    temp_file = \"pre.csv\"\n",
    "    df_grouped.to_csv(temp_file, index=False)\n",
    "    \n",
    "    # Process the aggregated data to add reverse trips\n",
    "    data_map = {}\n",
    "    with open(temp_file, 'r') as f:\n",
    "        next(f)  # Skip the header\n",
    "        for line in f:\n",
    "            origin, destination, trips = line.strip().split(',')\n",
    "            data_map[(origin, destination)] = int(trips)\n",
    "    \n",
    "    new_data = [['origin_state', 'destination_state', 'annual_total_trips', 'reverse_trips']]\n",
    "    for (origin, destination), trips in data_map.items():\n",
    "        reverse_trips = data_map.get((destination, origin), 0)\n",
    "        if origin < destination:\n",
    "            new_data.append([origin, destination, trips, reverse_trips])\n",
    "        elif reverse_trips == 0:\n",
    "            new_data.append([origin, destination, trips, reverse_trips])\n",
    "    \n",
    "    # Save the processed data\n",
    "    with open(\"next.csv\", 'w') as f:\n",
    "        for row in new_data:\n",
    "            f.write(\",\".join(map(str, row)) + \"\\n\")\n",
    "    \n",
    "    # Load the processed data and calculate errors\n",
    "    df_final = pd.read_csv(\"next.csv\")\n",
    "    df_final['abs_diff'] = abs(df_final['annual_total_trips'] - df_final['reverse_trips'])\n",
    "    df_final['pct_error_per_min'] = df_final['abs_diff'] / df_final[['annual_total_trips', 'reverse_trips']].min(axis=1)\n",
    "    \n",
    "    # Save the final output\n",
    "    df_final.to_csv(output_file, index=False)\n",
    "\n",
    "# Example usage:\n",
    "# process_trip_data(\"OD_Product_2021.csv\", \"balance_2021.csv\")"
   ]
  }
 ],
 "metadata": {
  "language_info": {
   "name": "python"
  }
 },
 "nbformat": 4,
 "nbformat_minor": 2
}
